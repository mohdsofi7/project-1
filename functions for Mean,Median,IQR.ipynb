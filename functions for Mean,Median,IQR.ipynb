{
 "cells": [
  {
   "cell_type": "markdown",
   "id": "34fd6b63",
   "metadata": {},
   "source": [
    "# function for mean"
   ]
  },
  {
   "cell_type": "code",
   "execution_count": 8,
   "id": "6de91a6e",
   "metadata": {},
   "outputs": [
    {
     "name": "stdout",
     "output_type": "stream",
     "text": [
      "4.0\n"
     ]
    }
   ],
   "source": [
    "def mean():\n",
    "    num = [2,3,4,5,6]\n",
    "    no = len(num)\n",
    "    summ = sum(num)\n",
    "    mean = summ/no\n",
    "    print(mean)\n",
    "mean()"
   ]
  },
  {
   "cell_type": "markdown",
   "id": "71461bc4",
   "metadata": {},
   "source": [
    "# function for median"
   ]
  },
  {
   "cell_type": "code",
   "execution_count": 7,
   "id": "771a7f46",
   "metadata": {},
   "outputs": [
    {
     "name": "stdout",
     "output_type": "stream",
     "text": [
      "5\n"
     ]
    }
   ],
   "source": [
    "def median():\n",
    "    numb = [2, 4, 5, 8, 9]\n",
    "    no = len(numb)\n",
    "    numb.sort()\n",
    "    if no % 2 == 0:\n",
    "        median1 = numb[no//2]\n",
    "        median2 = numb[no//2 - 1]\n",
    "        median = (median1 + median2)/2\n",
    "    else:\n",
    "        median = numb[no//2]\n",
    "        print(median)\n",
    "median()"
   ]
  },
  {
   "cell_type": "markdown",
   "id": "5ff75470",
   "metadata": {},
   "source": [
    "# IQR"
   ]
  },
  {
   "cell_type": "code",
   "execution_count": 9,
   "id": "2c215dc5",
   "metadata": {},
   "outputs": [],
   "source": [
    "import numpy as np"
   ]
  },
  {
   "cell_type": "code",
   "execution_count": 23,
   "id": "2f217676",
   "metadata": {},
   "outputs": [],
   "source": [
    "df = np.array([10,15,20,25,30,35])"
   ]
  },
  {
   "cell_type": "code",
   "execution_count": 24,
   "id": "b0676855",
   "metadata": {},
   "outputs": [
    {
     "data": {
      "text/plain": [
       "16.25"
      ]
     },
     "execution_count": 24,
     "metadata": {},
     "output_type": "execute_result"
    }
   ],
   "source": [
    "q1 = np.percentile(df, 25)\n",
    "q1"
   ]
  },
  {
   "cell_type": "code",
   "execution_count": 25,
   "id": "45454231",
   "metadata": {},
   "outputs": [
    {
     "data": {
      "text/plain": [
       "22.5"
      ]
     },
     "execution_count": 25,
     "metadata": {},
     "output_type": "execute_result"
    }
   ],
   "source": [
    "q2 = np.percentile(df, 50)\n",
    "q2"
   ]
  },
  {
   "cell_type": "code",
   "execution_count": 26,
   "id": "41f13491",
   "metadata": {},
   "outputs": [
    {
     "data": {
      "text/plain": [
       "28.75"
      ]
     },
     "execution_count": 26,
     "metadata": {},
     "output_type": "execute_result"
    }
   ],
   "source": [
    "q3 = np.percentile(df, 75)\n",
    "q3"
   ]
  },
  {
   "cell_type": "code",
   "execution_count": 27,
   "id": "9f2813fc",
   "metadata": {},
   "outputs": [
    {
     "data": {
      "text/plain": [
       "12.5"
      ]
     },
     "execution_count": 27,
     "metadata": {},
     "output_type": "execute_result"
    }
   ],
   "source": [
    "iqr = q3 - q1\n",
    "iqr"
   ]
  },
  {
   "cell_type": "code",
   "execution_count": null,
   "id": "37feeef8",
   "metadata": {},
   "outputs": [],
   "source": []
  }
 ],
 "metadata": {
  "kernelspec": {
   "display_name": "Python 3 (ipykernel)",
   "language": "python",
   "name": "python3"
  },
  "language_info": {
   "codemirror_mode": {
    "name": "ipython",
    "version": 3
   },
   "file_extension": ".py",
   "mimetype": "text/x-python",
   "name": "python",
   "nbconvert_exporter": "python",
   "pygments_lexer": "ipython3",
   "version": "3.9.12"
  }
 },
 "nbformat": 4,
 "nbformat_minor": 5
}
